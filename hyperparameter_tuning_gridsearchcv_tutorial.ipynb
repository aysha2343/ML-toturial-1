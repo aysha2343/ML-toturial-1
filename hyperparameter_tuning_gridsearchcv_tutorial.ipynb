{
 "cells": [
  {
   "cell_type": "markdown",
   "id": "a51ff8a9",
   "metadata": {},
   "source": [
    "# Hyperparameter Tuning with GridSearchCV and Cross-Validation\n",
    "A hands-on demonstration using SVM, KNN, and Decision Tree on the Breast Cancer dataset."
   ]
  },
  {
   "cell_type": "code",
   "execution_count": null,
   "id": "09b0994e",
   "metadata": {},
   "outputs": [],
   "source": [
    "import numpy as np\n",
    "import pandas as pd\n",
    "import matplotlib.pyplot as plt\n",
    "import seaborn as sns\n",
    "\n",
    "from sklearn.datasets import load_breast_cancer\n",
    "from sklearn.model_selection import train_test_split, GridSearchCV\n",
    "from sklearn.preprocessing import StandardScaler\n",
    "from sklearn.pipeline import Pipeline\n",
    "from sklearn.svm import SVC\n",
    "from sklearn.neighbors import KNeighborsClassifier\n",
    "from sklearn.tree import DecisionTreeClassifier\n",
    "from sklearn.metrics import accuracy_score, classification_report, ConfusionMatrixDisplay\n",
    "\n",
    "sns.set(style='whitegrid')"
   ]
  },
  {
   "cell_type": "code",
   "execution_count": null,
   "id": "ab63deae",
   "metadata": {},
   "outputs": [],
   "source": [
    "data = load_breast_cancer()\n",
    "X = pd.DataFrame(data.data, columns=data.feature_names)\n",
    "y = data.target\n",
    "print(\"Shape of data:\", X.shape)"
   ]
  },
  {
   "cell_type": "code",
   "execution_count": null,
   "id": "60252bbc",
   "metadata": {},
   "outputs": [],
   "source": [
    "X_train, X_test, y_train, y_test = train_test_split(\n",
    "    X, y, test_size=0.3, stratify=y, random_state=42\n",
    ")\n",
    "print(\"Training size:\", X_train.shape[0], \"| Test size:\", X_test.shape[0])"
   ]
  },
  {
   "cell_type": "code",
   "execution_count": null,
   "id": "a8e34a31",
   "metadata": {},
   "outputs": [],
   "source": [
    "svm_pipe = Pipeline([\n",
    "    ('scaler', StandardScaler()),\n",
    "    ('svc', SVC())\n",
    "])\n",
    "\n",
    "knn_pipe = Pipeline([\n",
    "    ('scaler', StandardScaler()),\n",
    "    ('knn', KNeighborsClassifier())\n",
    "])\n",
    "\n",
    "dt_pipe = Pipeline([\n",
    "    ('dt', DecisionTreeClassifier())\n",
    "])"
   ]
  },
  {
   "cell_type": "code",
   "execution_count": null,
   "id": "8e424ae3",
   "metadata": {},
   "outputs": [],
   "source": [
    "svm_params = {\n",
    "    'svc__C': [0.1, 1, 10],\n",
    "    'svc__kernel': ['linear', 'rbf'],\n",
    "    'svc__gamma': ['scale', 0.1, 1]\n",
    "}\n",
    "\n",
    "knn_params = {\n",
    "    'knn__n_neighbors': [3, 5, 7],\n",
    "    'knn__weights': ['uniform', 'distance'],\n",
    "    'knn__metric': ['euclidean', 'manhattan']\n",
    "}\n",
    "\n",
    "dt_params = {\n",
    "    'dt__max_depth': [3, 5, 7],\n",
    "    'dt__min_samples_split': [2, 5, 10]\n",
    "}"
   ]
  },
  {
   "cell_type": "code",
   "execution_count": null,
   "id": "8c0b9707",
   "metadata": {},
   "outputs": [],
   "source": [
    "svm_grid = GridSearchCV(svm_pipe, svm_params, cv=5, scoring='accuracy', n_jobs=-1)\n",
    "knn_grid = GridSearchCV(knn_pipe, knn_params, cv=5, scoring='accuracy', n_jobs=-1)\n",
    "dt_grid = GridSearchCV(dt_pipe, dt_params, cv=5, scoring='accuracy', n_jobs=-1)\n",
    "\n",
    "svm_grid.fit(X_train, y_train)\n",
    "knn_grid.fit(X_train, y_train)\n",
    "dt_grid.fit(X_train, y_train)"
   ]
  },
  {
   "cell_type": "code",
   "execution_count": null,
   "id": "a95deb65",
   "metadata": {},
   "outputs": [],
   "source": [
    "models = {\n",
    "    'SVM': svm_grid,\n",
    "    'KNN': knn_grid,\n",
    "    'Decision Tree': dt_grid\n",
    "}\n",
    "\n",
    "for name, model in models.items():\n",
    "    print(f\"\\n{name} Best Parameters:\", model.best_params_)\n",
    "    y_pred = model.predict(X_test)\n",
    "    print(f\"Accuracy: {accuracy_score(y_test, y_pred):.4f}\")\n",
    "    print(classification_report(y_test, y_pred, target_names=data.target_names))"
   ]
  },
  {
   "cell_type": "code",
   "execution_count": null,
   "id": "3fed8fa1",
   "metadata": {},
   "outputs": [],
   "source": [
    "for name, model in models.items():\n",
    "    print(f\"\\n{name} Confusion Matrix:\")\n",
    "    ConfusionMatrixDisplay.from_estimator(model, X_test, y_test, display_labels=data.target_names)\n",
    "    plt.title(f\"{name} - Confusion Matrix\")\n",
    "    plt.grid(False)\n",
    "    plt.show()"
   ]
  }
 ],
 "metadata": {},
 "nbformat": 4,
 "nbformat_minor": 5
}
